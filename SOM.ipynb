{
  "nbformat": 4,
  "nbformat_minor": 0,
  "metadata": {
    "colab": {
      "name": "SOM.ipynb",
      "provenance": [],
      "authorship_tag": "ABX9TyNcSfjhX0AsL3Je1Rgn9nfR",
      "include_colab_link": true
    },
    "kernelspec": {
      "name": "python3",
      "display_name": "Python 3"
    }
  },
  "cells": [
    {
      "cell_type": "markdown",
      "metadata": {
        "id": "view-in-github",
        "colab_type": "text"
      },
      "source": [
        "<a href=\"https://colab.research.google.com/github/SouravG/self-organizing-map/blob/main/SOM.ipynb\" target=\"_parent\"><img src=\"https://colab.research.google.com/assets/colab-badge.svg\" alt=\"Open In Colab\"/></a>"
      ]
    },
    {
      "cell_type": "code",
      "metadata": {
        "id": "l_5cXqnVWSSK"
      },
      "source": [
        "import numpy as np\n",
        "import random\n",
        "import matplotlib.pyplot as plt \n",
        "import networkx as nx"
      ],
      "execution_count": null,
      "outputs": []
    },
    {
      "cell_type": "code",
      "metadata": {
        "id": "6whw7a8IX8v2"
      },
      "source": [
        "maxEpochs = 10000\n",
        "learning_rate = 0.1"
      ],
      "execution_count": null,
      "outputs": []
    },
    {
      "cell_type": "code",
      "metadata": {
        "id": "BHV6XMLNatym"
      },
      "source": [
        "def winnerWeight(xi, W):\n",
        "  euclidian = np.sqrt(np.sum((W-xi)**2,axis=1))\n",
        "  return np.argmin(euclidian)\n",
        "\n",
        "def deltaLearningRule(xi,wi):\n",
        "  return np.matrix.round(learning_rate*(xi - wi),3)\n",
        "\n",
        "def plotMap():\n",
        "  plt.scatter(som[:,0],som[:,1]) \n",
        "  plt.xlabel('x - axis') \n",
        "  plt.ylabel('y - axis') \n",
        "  plt.title('Kononen Map') \n",
        "  plt.show()"
      ],
      "execution_count": null,
      "outputs": []
    },
    {
      "cell_type": "code",
      "metadata": {
        "id": "7nAlOLnJWxuT"
      },
      "source": [
        "som = np.ndarray((10,10,2))\n",
        "for i in range(10):\n",
        "  for j in range(10):\n",
        "    w1 = round(random.uniform(-1,1),3)\n",
        "    w2 = round(random.uniform(-1,1),3)\n",
        "    som[i][j] = [w1,w2]\n"
      ],
      "execution_count": null,
      "outputs": []
    },
    {
      "cell_type": "code",
      "metadata": {
        "id": "BeW685kcaOLv"
      },
      "source": [
        "#training inputs\n",
        "inputs = np.ndarray((1500,2))\n",
        "for i in range(len(inputs)):\n",
        "  for j in range(2):\n",
        "    ip = round(random.uniform(-1,1),3)\n",
        "    inputs[i][j] = ip"
      ],
      "execution_count": null,
      "outputs": []
    },
    {
      "cell_type": "code",
      "metadata": {
        "id": "iyax4HAnZie5",
        "colab": {
          "base_uri": "https://localhost:8080/",
          "height": 295
        },
        "outputId": "fe752219-3b68-42b7-f06f-18180f11b5c5"
      },
      "source": [
        "#initial SOM\n",
        "som = som.reshape((100,2))\n",
        "plotMap()"
      ],
      "execution_count": null,
      "outputs": [
        {
          "output_type": "display_data",
          "data": {
            "image/png": "[encoded data removed]",
            "text/plain": [
              "<Figure size 432x288 with 1 Axes>"
            ]
          },
          "metadata": {
            "tags": [],
            "needs_background": "light"
          }
        }
      ]
    },
    {
      "cell_type": "code",
      "metadata": {
        "id": "HmQhbgsPD0I1",
        "colab": {
          "base_uri": "https://localhost:8080/",
          "height": 34
        },
        "outputId": "ebb4f9f3-801f-4155-cd33-5f0af3bfa68a"
      },
      "source": [
        "#training \n",
        "i,epochs = 1,0\n",
        "while i:\n",
        "  initialSOM = som.copy()\n",
        "  epochs+=1\n",
        "  for ip in inputs:\n",
        "    ind = winnerWeight(ip,som)\n",
        "    som[ind] += deltaLearningRule(ip,som[ind])\n",
        "  if (initialSOM == som).all():\n",
        "    i=0\n",
        "  if epochs >= maxEpochs:\n",
        "    break\n",
        "\n",
        "print('epochs = ', epochs)"
      ],
      "execution_count": null,
      "outputs": [
        {
          "output_type": "stream",
          "text": [
            "epochs =  10000\n"
          ],
          "name": "stdout"
        }
      ]
    },
    {
      "cell_type": "code",
      "metadata": {
        "id": "PjiZeOh3Vej3",
        "colab": {
          "base_uri": "https://localhost:8080/",
          "height": 295
        },
        "outputId": "b7b8e1e9-4a59-4f8f-c17b-f292d26a6da2"
      },
      "source": [
        "#trained SOM\n",
        "plotMap()"
      ],
      "execution_count": null,
      "outputs": [
        {
          "output_type": "display_data",
          "data": {
            "image/png": "[encoded data removed]",
            "text/plain": [
              "<Figure size 432x288 with 1 Axes>"
            ]
          },
          "metadata": {
            "tags": [],
            "needs_background": "light"
          }
        }
      ]
    },
    {
      "cell_type": "code",
      "metadata": {
        "id": "lS4SuW9nC28R"
      },
      "source": [
        "# testing\n",
        "X1 =[0.1, 0.8]\n",
        "X2 =[0.5, -0.2]\n",
        "X3 =[-0.8, -0.9]\n",
        "X4 =[-0.6, 0.9]\n",
        "test = [X1,X2,X3,X4]"
      ],
      "execution_count": null,
      "outputs": []
    },
    {
      "cell_type": "code",
      "metadata": {
        "id": "G4pQYQgJbJtO",
        "colab": {
          "base_uri": "https://localhost:8080/",
          "height": 85
        },
        "outputId": "3fcf886b-97fe-422d-9231-bfe16c932578"
      },
      "source": [
        "for ip in test:\n",
        "  ind = winnerWeight(ip,som)\n",
        "  r,c = int(ind/10),ind%10\n",
        "  print('nearest neuron of', ip, 'is W', [r],[c], '=', som[ind])"
      ],
      "execution_count": null,
      "outputs": [
        {
          "output_type": "stream",
          "text": [
            "nearest neuron of [0.1, 0.8] is W [3] [9] = [0.119 0.931]\n",
            "nearest neuron of [0.5, -0.2] is W [3] [7] = [ 0.51  -0.145]\n",
            "nearest neuron of [-0.8, -0.9] is W [8] [1] = [-0.879 -0.898]\n",
            "nearest neuron of [-0.6, 0.9] is W [5] [0] = [-0.677  0.845]\n"
          ],
          "name": "stdout"
        }
      ]
    }
  ]
}